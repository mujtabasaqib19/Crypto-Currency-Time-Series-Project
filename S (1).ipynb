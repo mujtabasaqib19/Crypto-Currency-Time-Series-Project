{
 "cells": [
  {
   "cell_type": "code",
   "execution_count": 1,
   "id": "e7b21a5a",
   "metadata": {},
   "outputs": [
    {
     "name": "stdout",
     "output_type": "stream",
     "text": [
      "Server started. Waiting for a connection...\n",
      "Connection established with ('127.0.0.1', 54157)\n",
      "Client: sup\n",
      "You (Server): hi\n",
      "Client: op\n",
      "You (Server): level\n",
      "Client disconnected.\n"
     ]
    }
   ],
   "source": [
    "import socket\n",
    "\n",
    "# Function to start the server\n",
    "def start_server():\n",
    "    server_socket = socket.socket(socket.AF_INET, socket.SOCK_STREAM)\n",
    "    server_socket.bind(('localhost', 12345))\n",
    "    server_socket.listen(1)\n",
    "    \n",
    "    print(\"Server started. Waiting for a connection...\")\n",
    "    conn, addr = server_socket.accept()\n",
    "    print(f\"Connection established with {addr}\")\n",
    "    \n",
    "    # Continuous chat loop\n",
    "    while True:\n",
    "        # Receive message from client\n",
    "        client_message = conn.recv(1024).decode()\n",
    "        if client_message.lower() == 'exit':\n",
    "            print(\"Client disconnected.\")\n",
    "            break\n",
    "        print(f\"Client: {client_message}\")\n",
    "        \n",
    "        # Send message to client\n",
    "        server_message = input(\"You (Server): \")\n",
    "        conn.send(server_message.encode())\n",
    "        if server_message.lower() == 'exit':\n",
    "            print(\"Server shutting down.\")\n",
    "            break\n",
    "    \n",
    "    conn.close()\n",
    "    server_socket.close()\n",
    "\n",
    "if __name__ == \"__main__\":\n",
    "    start_server()"
   ]
  },
  {
   "cell_type": "code",
   "execution_count": null,
   "id": "8b12cb4e",
   "metadata": {},
   "outputs": [
    {
     "name": "stdout",
     "output_type": "stream",
     "text": [
      "Server is listening on port 12345...\n",
      "Connection established with ('127.0.0.1', 54254)\n",
      "Receiving file...\n"
     ]
    }
   ],
   "source": [
    "import socket\n",
    "\n",
    "def start_server():\n",
    "    server_socket = socket.socket(socket.AF_INET, socket.SOCK_STREAM)\n",
    "    server_socket.bind(('localhost', 12345))\n",
    "    server_socket.listen(1)\n",
    "    print(\"Server is listening on port 12345...\")\n",
    "\n",
    "    conn, addr = server_socket.accept()\n",
    "    print(f\"Connection established with {addr}\")\n",
    "    \n",
    "    with open('dataset.txt', 'wb') as file:\n",
    "        print(\"Receiving file...\")\n",
    "        while True:\n",
    "            data = conn.recv(1024)\n",
    "            if not data:\n",
    "                break\n",
    "            file.write(data)\n",
    "    \n",
    "    print(\"File transfer complete. File saved as 'received_file.txt'.\")\n",
    "    \n",
    "    conn.close()\n",
    "    server_socket.close()\n",
    "\n",
    "if __name__ == \"__main__\":\n",
    "    start_server()"
   ]
  },
  {
   "cell_type": "code",
   "execution_count": 1,
   "id": "e5002a27",
   "metadata": {},
   "outputs": [
    {
     "name": "stdout",
     "output_type": "stream",
     "text": [
      "Echo server is listening on port 12345...\n",
      "Connection established with ('127.0.0.1', 54333)\n",
      "Received from client: hi\n",
      "Echoed back: hi\n",
      "Received from client: sup\n",
      "Echoed back: sup\n",
      "Received from client: rger]\n",
      "Echoed back: rger]\n",
      "Received from client: fdfd\n",
      "Echoed back: fdfd\n",
      "Received from client: fiuf\n",
      "Echoed back: fiuf\n",
      "Client has disconnected.\n"
     ]
    }
   ],
   "source": [
    "import socket\n",
    "\n",
    "def start_server():\n",
    "    # Create a TCP/IP socket\n",
    "    server_socket = socket.socket(socket.AF_INET, socket.SOCK_STREAM)\n",
    "    \n",
    "    # Bind the socket to the address and port\n",
    "    server_socket.bind(('localhost', 12345))\n",
    "    server_socket.listen(1)\n",
    "    print(\"Echo server is listening on port 12345...\")\n",
    "    \n",
    "    # Accept a connection from the client\n",
    "    conn, addr = server_socket.accept()\n",
    "    print(f\"Connection established with {addr}\")\n",
    "    \n",
    "    while True:\n",
    "        # Receive message from the client\n",
    "        message = conn.recv(1024).decode()\n",
    "        \n",
    "        if not message or message.lower() == 'exit':\n",
    "            print(\"Client has disconnected.\")\n",
    "            break\n",
    "        \n",
    "        print(f\"Received from client: {message}\")\n",
    "        \n",
    "        # Send back the same message (echo)\n",
    "        conn.send(message.encode())\n",
    "        print(f\"Echoed back: {message}\")\n",
    "    \n",
    "    # Close the connection\n",
    "    conn.close()\n",
    "    server_socket.close()\n",
    "\n",
    "if __name__ == \"__main__\":\n",
    "    start_server()"
   ]
  },
  {
   "cell_type": "code",
   "execution_count": 2,
   "id": "a2d88654",
   "metadata": {},
   "outputs": [
    {
     "name": "stdout",
     "output_type": "stream",
     "text": [
      "Server is listening on port 12345...\n",
      "Connection established with ('127.0.0.1', 54349)\n",
      "Sent to client: Hello, Client\n"
     ]
    }
   ],
   "source": [
    "import socket\n",
    "\n",
    "def start_server():\n",
    "    server_socket = socket.socket(socket.AF_INET, socket.SOCK_STREAM)\n",
    "\n",
    "    server_socket.bind(('localhost', 12345))\n",
    "    server_socket.listen(1)\n",
    "    print(\"Server is listening on port 12345...\")\n",
    "\n",
    "    conn, addr = server_socket.accept()\n",
    "    print(f\"Connection established with {addr}\")\n",
    "\n",
    "    message = \"Hello, Client\"\n",
    "    conn.send(message.encode())\n",
    "    print(f\"Sent to client: {message}\")\n",
    "    \n",
    "    conn.close()\n",
    "    server_socket.close()\n",
    "\n",
    "if __name__ == \"__main__\":\n",
    "    start_server()"
   ]
  },
  {
   "cell_type": "code",
   "execution_count": null,
   "id": "0740b70e",
   "metadata": {},
   "outputs": [
    {
     "name": "stdout",
     "output_type": "stream",
     "text": [
      "UDP server is up and listening on port 12345...\n",
      "Received message from client ('127.0.0.1', 63166): hi\n",
      "Acknowledgment sent to ('127.0.0.1', 63166)\n"
     ]
    }
   ],
   "source": [
    "import socket\n",
    "\n",
    "def start_udp_server():\n",
    "    # Create a UDP socket\n",
    "    server_socket = socket.socket(socket.AF_INET, socket.SOCK_DGRAM)\n",
    "    \n",
    "    # Bind the socket to an address and port\n",
    "    server_socket.bind(('localhost', 12345))\n",
    "    print(\"UDP server is up and listening on port 12345...\")\n",
    "    \n",
    "    while True:\n",
    "        # Receive message from the client\n",
    "        message, client_address = server_socket.recvfrom(1024)\n",
    "        message = message.decode()\n",
    "        \n",
    "        print(f\"Received message from client {client_address}: {message}\")\n",
    "        \n",
    "        # Send an acknowledgment back to the client\n",
    "        ack_message = \"Message received\"\n",
    "        server_socket.sendto(ack_message.encode(), client_address)\n",
    "        print(f\"Acknowledgment sent to {client_address}\")\n",
    "\n",
    "if __name__ == \"__main__\":\n",
    "    start_udp_server()"
   ]
  },
  {
   "cell_type": "code",
   "execution_count": 1,
   "id": "c4097df7",
   "metadata": {},
   "outputs": [
    {
     "name": "stdout",
     "output_type": "stream",
     "text": [
      "Enter the port number: 80\n",
      "Enter the protocol (tcp/udp): tcp\n",
      "Service running on port 80/tcp: http\n"
     ]
    }
   ],
   "source": [
    "import socket\n",
    "\n",
    "def find_service_by_port(port, protocol=\"tcp\"):\n",
    "    try:\n",
    "        # Use getservbyport() to get the service name for the given port\n",
    "        service_name = socket.getservbyport(port, protocol)\n",
    "        print(f\"Service running on port {port}/{protocol}: {service_name}\")\n",
    "    except OSError:\n",
    "        print(f\"No service found running on port {port}/{protocol}\")\n",
    "\n",
    "if __name__ == \"__main__\":\n",
    "    # Input port number from the user\n",
    "    port = int(input(\"Enter the port number: \"))\n",
    "    \n",
    "    # You can specify the protocol (\"tcp\" or \"udp\"), default is \"tcp\"\n",
    "    protocol = input(\"Enter the protocol (tcp/udp): \").strip().lower() or \"tcp\"\n",
    "    \n",
    "    # Find and print the service name\n",
    "    find_service_by_port(port, protocol)"
   ]
  },
  {
   "cell_type": "code",
   "execution_count": null,
   "id": "1bd1899d",
   "metadata": {},
   "outputs": [],
   "source": [
    "#importing the socket module:\n",
    "from socket import *\n",
    "\n",
    "#importing time module\n",
    "import time\n",
    "\n",
    "startTime = time.time()\n",
    "\n",
    "if __name__ == \"__main__\":\n",
    "    target = input(\"Enter the hostname to be scanned: \")\n",
    "    target_ip = gethostbyname(target)\n",
    "    print(\"Starting scan on host: \", target_ip)\n",
    "\n",
    "    for i in range(50, 500):\n",
    "        s = socket(AF_INET, SOCK_STREAM)\n",
    "        conn = s.connect_ex((target_ip, i))\n",
    "\n",
    "        if(conn == 0):\n",
    "            print(\"Port %d: OPEN\" % (i,))\n",
    "        s.close()\n",
    "\n",
    "print(\"Time Taken in Seconds: \", time.time()-startTime)\n",
    "print(\"Time in Minutes: \", (time.time()-startTime)/60)"
   ]
  },
  {
   "cell_type": "code",
   "execution_count": null,
   "id": "7c448531",
   "metadata": {},
   "outputs": [],
   "source": [
    "import socket\n",
    "\n",
    "#creating a socket object\n",
    "s = socket.socket()\n",
    "print(\"Socket Created\")\n",
    "\n",
    "#binding to the port\n",
    "s.bind(('localhost', 9999))\n",
    "\n",
    "#now wait for client connection\n",
    "s.listen(5)\n",
    "print(\"Waiting for connection\")\n",
    "\n",
    "while True:\n",
    "    c, addr = s.accept()   #establish connection with the client\n",
    "    print(\"Got connection from\", addr)\n",
    "    c.send(bytes(\"Thank you for connecting\", \"utf-8\"))\n",
    "\n",
    "    c.close()   #close the connection\n",
    "\n",
    "    \n",
    "#importing the socket module:\n",
    "import socket\n",
    "\n",
    "#creating a socket object\n",
    "s = socket.socket()\n",
    "\n",
    "s.connect(('localhost', 9999))\n",
    "print(s.recv(1024).decode())\n",
    "\n",
    "s.close()"
   ]
  },
  {
   "cell_type": "code",
   "execution_count": null,
   "id": "740c9f8d",
   "metadata": {},
   "outputs": [
    {
     "name": "stdout",
     "output_type": "stream",
     "text": [
      "Server is listening on port 12345...\n",
      "Connection established with ('127.0.0.1', 55084)\n",
      "Received query: 6+9\n",
      "Connection established with ('127.0.0.1', 55085)\n",
      "Received query: 6 + 9\n"
     ]
    }
   ],
   "source": [
    "import socket\n",
    "import time\n",
    "\n",
    "# Function to perform mathematical operations\n",
    "def perform_operation(query):\n",
    "    try:\n",
    "        # Split the query into parts: [number1, operator, number2]\n",
    "        parts = query.split()\n",
    "        num1, operator, num2 = float(parts[0]), parts[1], float(parts[2])\n",
    "\n",
    "        if operator == '+':\n",
    "            return num1 + num2\n",
    "        elif operator == '-':\n",
    "            return num1 - num2\n",
    "        elif operator == '*':\n",
    "            return num1 * num2\n",
    "        elif operator == '/':\n",
    "            if num2 != 0:\n",
    "                return num1 / num2\n",
    "            else:\n",
    "                return \"Error: Division by zero\"\n",
    "        else:\n",
    "            return \"Error: Invalid operator\"\n",
    "    except Exception as e:\n",
    "        return f\"Error: {str(e)}\"\n",
    "\n",
    "# Main server function\n",
    "def start_server():\n",
    "    server_socket = socket.socket(socket.AF_INET, socket.SOCK_STREAM)\n",
    "    server_socket.bind(('localhost', 12345))\n",
    "    server_socket.listen(5)\n",
    "    print(\"Server is listening on port 12345...\")\n",
    "\n",
    "    while True:\n",
    "        conn, addr = server_socket.accept()\n",
    "        print(f\"Connection established with {addr}\")\n",
    "        \n",
    "        start_time = time.time()\n",
    "\n",
    "        query = conn.recv(1024).decode()\n",
    "        print(f\"Received query: {query}\")\n",
    "\n",
    "        result = perform_operation(query)\n",
    "        conn.send(str(result).encode()) \n",
    "\n",
    "        end_time = time.time()\n",
    "        duration = end_time - start_time\n",
    "\n",
    "        with open(\"math_server_log.txt\", \"a\") as log_file:\n",
    "            log_file.write(f\"Query: {query}, Result: {result}, Duration: {duration:.2f} seconds\\n\")\n",
    "\n",
    "        conn.close()\n",
    "\n",
    "if __name__ == \"__main__\":\n",
    "    start_server()"
   ]
  },
  {
   "cell_type": "code",
   "execution_count": null,
   "id": "ed5aa130",
   "metadata": {},
   "outputs": [],
   "source": []
  }
 ],
 "metadata": {
  "kernelspec": {
   "display_name": "Python 3 (ipykernel)",
   "language": "python",
   "name": "python3"
  },
  "language_info": {
   "codemirror_mode": {
    "name": "ipython",
    "version": 3
   },
   "file_extension": ".py",
   "mimetype": "text/x-python",
   "name": "python",
   "nbconvert_exporter": "python",
   "pygments_lexer": "ipython3",
   "version": "3.11.4"
  }
 },
 "nbformat": 4,
 "nbformat_minor": 5
}
