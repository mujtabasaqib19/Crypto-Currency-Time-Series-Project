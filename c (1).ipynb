{
 "cells": [
  {
   "cell_type": "code",
   "execution_count": 1,
   "id": "ba6cd6fd",
   "metadata": {},
   "outputs": [
    {
     "name": "stdout",
     "output_type": "stream",
     "text": [
      "Connected to the server.\n",
      "You (Client): sup\n",
      "Server: hi\n",
      "You (Client): op\n",
      "Server: level\n",
      "You (Client): exit\n",
      "You disconnected.\n"
     ]
    }
   ],
   "source": [
    "import socket\n",
    "\n",
    "def start_client():\n",
    "    client_socket = socket.socket(socket.AF_INET, socket.SOCK_STREAM)\n",
    "    client_socket.connect(('localhost', 12345))\n",
    "    \n",
    "    print(\"Connected to the server.\")\n",
    "\n",
    "    while True:\n",
    "        # Send message to server\n",
    "        client_message = input(\"You (Client): \")\n",
    "        client_socket.send(client_message.encode())\n",
    "        if client_message.lower() == 'exit':\n",
    "            print(\"You disconnected.\")\n",
    "            break\n",
    "        \n",
    "        server_message = client_socket.recv(1024).decode()\n",
    "        if server_message.lower() == 'exit':\n",
    "            print(\"Server disconnected.\")\n",
    "            break\n",
    "        print(f\"Server: {server_message}\")\n",
    "    \n",
    "    client_socket.close()\n",
    "\n",
    "if __name__ == \"__main__\":\n",
    "    start_client()"
   ]
  },
  {
   "cell_type": "code",
   "execution_count": 1,
   "id": "20c322a1",
   "metadata": {},
   "outputs": [
    {
     "name": "stdout",
     "output_type": "stream",
     "text": [
      "Connected to the server.\n"
     ]
    },
    {
     "ename": "PermissionError",
     "evalue": "[Errno 13] Permission denied: 'C:\\\\Users\\\\mujta\\\\Desktop'",
     "output_type": "error",
     "traceback": [
      "\u001b[1;31m---------------------------------------------------------------------------\u001b[0m",
      "\u001b[1;31mPermissionError\u001b[0m                           Traceback (most recent call last)",
      "Cell \u001b[1;32mIn[1], line 24\u001b[0m\n\u001b[0;32m     22\u001b[0m file_path \u001b[38;5;241m=\u001b[39m \u001b[38;5;124m'\u001b[39m\u001b[38;5;124mC:\u001b[39m\u001b[38;5;130;01m\\\\\u001b[39;00m\u001b[38;5;124mUsers\u001b[39m\u001b[38;5;130;01m\\\\\u001b[39;00m\u001b[38;5;124mmujta\u001b[39m\u001b[38;5;130;01m\\\\\u001b[39;00m\u001b[38;5;124mDesktop\u001b[39m\u001b[38;5;124m'\u001b[39m\n\u001b[0;32m     23\u001b[0m \u001b[38;5;28;01mif\u001b[39;00m os\u001b[38;5;241m.\u001b[39mpath\u001b[38;5;241m.\u001b[39mexists(file_path):\n\u001b[1;32m---> 24\u001b[0m     send_file(file_path)\n\u001b[0;32m     25\u001b[0m \u001b[38;5;28;01melse\u001b[39;00m:\n\u001b[0;32m     26\u001b[0m     \u001b[38;5;28mprint\u001b[39m(\u001b[38;5;124mf\u001b[39m\u001b[38;5;124m\"\u001b[39m\u001b[38;5;124mFile \u001b[39m\u001b[38;5;124m'\u001b[39m\u001b[38;5;132;01m{\u001b[39;00mfile_path\u001b[38;5;132;01m}\u001b[39;00m\u001b[38;5;124m'\u001b[39m\u001b[38;5;124m does not exist.\u001b[39m\u001b[38;5;124m\"\u001b[39m)\n",
      "Cell \u001b[1;32mIn[1], line 10\u001b[0m, in \u001b[0;36msend_file\u001b[1;34m(file_path)\u001b[0m\n\u001b[0;32m      7\u001b[0m client_socket\u001b[38;5;241m.\u001b[39mconnect((\u001b[38;5;124m'\u001b[39m\u001b[38;5;124mlocalhost\u001b[39m\u001b[38;5;124m'\u001b[39m, \u001b[38;5;241m12345\u001b[39m))\n\u001b[0;32m      8\u001b[0m \u001b[38;5;28mprint\u001b[39m(\u001b[38;5;124m\"\u001b[39m\u001b[38;5;124mConnected to the server.\u001b[39m\u001b[38;5;124m\"\u001b[39m)\n\u001b[1;32m---> 10\u001b[0m \u001b[38;5;28;01mwith\u001b[39;00m \u001b[38;5;28mopen\u001b[39m(file_path, \u001b[38;5;124m'\u001b[39m\u001b[38;5;124mrb\u001b[39m\u001b[38;5;124m'\u001b[39m) \u001b[38;5;28;01mas\u001b[39;00m file:\n\u001b[0;32m     11\u001b[0m     \u001b[38;5;28mprint\u001b[39m(\u001b[38;5;124mf\u001b[39m\u001b[38;5;124m\"\u001b[39m\u001b[38;5;124mSending file: \u001b[39m\u001b[38;5;132;01m{\u001b[39;00mfile_path\u001b[38;5;132;01m}\u001b[39;00m\u001b[38;5;124m\"\u001b[39m)\n\u001b[0;32m     12\u001b[0m     \u001b[38;5;28;01mwhile\u001b[39;00m \u001b[38;5;28;01mTrue\u001b[39;00m:\n",
      "File \u001b[1;32m~\\anaconda3\\Lib\\site-packages\\IPython\\core\\interactiveshell.py:284\u001b[0m, in \u001b[0;36m_modified_open\u001b[1;34m(file, *args, **kwargs)\u001b[0m\n\u001b[0;32m    277\u001b[0m \u001b[38;5;28;01mif\u001b[39;00m file \u001b[38;5;129;01min\u001b[39;00m {\u001b[38;5;241m0\u001b[39m, \u001b[38;5;241m1\u001b[39m, \u001b[38;5;241m2\u001b[39m}:\n\u001b[0;32m    278\u001b[0m     \u001b[38;5;28;01mraise\u001b[39;00m \u001b[38;5;167;01mValueError\u001b[39;00m(\n\u001b[0;32m    279\u001b[0m         \u001b[38;5;124mf\u001b[39m\u001b[38;5;124m\"\u001b[39m\u001b[38;5;124mIPython won\u001b[39m\u001b[38;5;124m'\u001b[39m\u001b[38;5;124mt let you open fd=\u001b[39m\u001b[38;5;132;01m{\u001b[39;00mfile\u001b[38;5;132;01m}\u001b[39;00m\u001b[38;5;124m by default \u001b[39m\u001b[38;5;124m\"\u001b[39m\n\u001b[0;32m    280\u001b[0m         \u001b[38;5;124m\"\u001b[39m\u001b[38;5;124mas it is likely to crash IPython. If you know what you are doing, \u001b[39m\u001b[38;5;124m\"\u001b[39m\n\u001b[0;32m    281\u001b[0m         \u001b[38;5;124m\"\u001b[39m\u001b[38;5;124myou can use builtins\u001b[39m\u001b[38;5;124m'\u001b[39m\u001b[38;5;124m open.\u001b[39m\u001b[38;5;124m\"\u001b[39m\n\u001b[0;32m    282\u001b[0m     )\n\u001b[1;32m--> 284\u001b[0m \u001b[38;5;28;01mreturn\u001b[39;00m io_open(file, \u001b[38;5;241m*\u001b[39margs, \u001b[38;5;241m*\u001b[39m\u001b[38;5;241m*\u001b[39mkwargs)\n",
      "\u001b[1;31mPermissionError\u001b[0m: [Errno 13] Permission denied: 'C:\\\\Users\\\\mujta\\\\Desktop'"
     ]
    }
   ],
   "source": [
    "import socket\n",
    "import os\n",
    "\n",
    "def send_file(file_path):\n",
    "    client_socket = socket.socket(socket.AF_INET, socket.SOCK_STREAM)\n",
    "    \n",
    "    client_socket.connect(('localhost', 12345))\n",
    "    print(\"Connected to the server.\")\n",
    "\n",
    "    with open(file_path, 'rb') as file:\n",
    "        print(f\"Sending file: {file_path}\")\n",
    "        while True:\n",
    "            data = file.read(1024) \n",
    "            if not data:\n",
    "                break\n",
    "            client_socket.sendall(data)\n",
    "    \n",
    "    print(\"File transfer complete.\")\n",
    "    client_socket.close()\n",
    "\n",
    "if __name__ == \"__main__\":\n",
    "    file_path = 'C:\\\\Users\\\\mujta\\\\Desktop'\n",
    "    if os.path.exists(file_path):\n",
    "        send_file(file_path)\n",
    "    else:\n",
    "        print(f\"File '{file_path}' does not exist.\")"
   ]
  },
  {
   "cell_type": "code",
   "execution_count": 1,
   "id": "a510b8d3",
   "metadata": {},
   "outputs": [
    {
     "name": "stdout",
     "output_type": "stream",
     "text": [
      "Connected to the echo server.\n",
      "You: hi\n",
      "Server echoed: hi\n",
      "You: sup\n",
      "Server echoed: sup\n",
      "You: rger]\n",
      "Server echoed: rger]\n",
      "You: fdfd\n",
      "Server echoed: fdfd\n",
      "You: fiuf\n",
      "Server echoed: fiuf\n",
      "You: exit\n",
      "Disconnected from server.\n"
     ]
    }
   ],
   "source": [
    "import socket\n",
    "\n",
    "def start_client():\n",
    "    # Create a TCP/IP socket\n",
    "    client_socket = socket.socket(socket.AF_INET, socket.SOCK_STREAM)\n",
    "    \n",
    "    # Connect to the server\n",
    "    client_socket.connect(('localhost', 12345))\n",
    "    print(\"Connected to the echo server.\")\n",
    "    \n",
    "    while True:\n",
    "        # Input message to send to the server\n",
    "        message = input(\"You: \")\n",
    "        \n",
    "        if message.lower() == 'exit':\n",
    "            client_socket.send(message.encode())\n",
    "            print(\"Disconnected from server.\")\n",
    "            break\n",
    "        \n",
    "        # Send the message to the server\n",
    "        client_socket.send(message.encode())\n",
    "        \n",
    "        # Receive the echoed message from the server\n",
    "        echo_message = client_socket.recv(1024).decode()\n",
    "        print(f\"Server echoed: {echo_message}\")\n",
    "    \n",
    "    # Close the connection\n",
    "    client_socket.close()\n",
    "\n",
    "if __name__ == \"__main__\":\n",
    "    start_client()"
   ]
  },
  {
   "cell_type": "code",
   "execution_count": 2,
   "id": "3b8f552f",
   "metadata": {},
   "outputs": [
    {
     "name": "stdout",
     "output_type": "stream",
     "text": [
      "Connected to the server.\n",
      "Received from server: Hello, Client\n"
     ]
    }
   ],
   "source": [
    "import socket\n",
    "\n",
    "def start_client():\n",
    "    client_socket = socket.socket(socket.AF_INET, socket.SOCK_STREAM)\n",
    "    \n",
    "    client_socket.connect(('localhost', 12345))\n",
    "    print(\"Connected to the server.\")\n",
    "\n",
    "    message = client_socket.recv(1024).decode()\n",
    "    print(f\"Received from server: {message}\")\n",
    "\n",
    "    client_socket.close()\n",
    "\n",
    "if __name__ == \"__main__\":\n",
    "    start_client()"
   ]
  },
  {
   "cell_type": "code",
   "execution_count": 3,
   "id": "800bc79c",
   "metadata": {},
   "outputs": [
    {
     "name": "stdout",
     "output_type": "stream",
     "text": [
      "Enter a message to send to the server: hi\n",
      "Received from server: Message received\n"
     ]
    }
   ],
   "source": [
    "import socket\n",
    "\n",
    "def start_udp_client():\n",
    "    # Create a UDP socket\n",
    "    client_socket = socket.socket(socket.AF_INET, socket.SOCK_DGRAM)\n",
    "    \n",
    "    server_address = ('localhost', 12345)\n",
    "    \n",
    "    # Input a message to send to the server\n",
    "    message = input(\"Enter a message to send to the server: \")\n",
    "    \n",
    "    # Send the message to the server\n",
    "    client_socket.sendto(message.encode(), server_address)\n",
    "    \n",
    "    # Receive the acknowledgment from the server\n",
    "    ack_message, server = client_socket.recvfrom(1024)\n",
    "    print(f\"Received from server: {ack_message.decode()}\")\n",
    "    \n",
    "    # Close the socket\n",
    "    client_socket.close()\n",
    "\n",
    "if __name__ == \"__main__\":\n",
    "    start_udp_client()"
   ]
  },
  {
   "cell_type": "code",
   "execution_count": null,
   "id": "77f621bf",
   "metadata": {},
   "outputs": [],
   "source": [
    "import socket\n",
    "\n",
    "# Getting the hostname by socket.gethostname() method\n",
    "hostname = socket.gethostname()\n",
    "\n",
    "# Getting the IP address by socket.gethostbyname() method\n",
    "ip_address = socket.gethostbyname(hostname)\n",
    "\n",
    "# Printing the details\n",
    "print(f\"Hostname: {hostname}\")\n",
    "print(f\"IP_ADDRESS: {ip_address}\")"
   ]
  },
  {
   "cell_type": "code",
   "execution_count": null,
   "id": "066401dd",
   "metadata": {},
   "outputs": [],
   "source": [
    "import socket\n",
    "\n",
    "# List of hostnames\n",
    "hostnames = [\"www.google.com\", \"www.facebook.com\"]\n",
    "\n",
    "# Getting the IP address by socket.gethostbyname() method\n",
    "for host in hostnames:\n",
    "    ip_address = socket.gethostbyname(host)\n",
    "    print(f\"Hostname: {host}\")\n",
    "    print(f\"IP_ADDRESS: {ip_address}\\n\")\n"
   ]
  },
  {
   "cell_type": "code",
   "execution_count": null,
   "id": "3993da61",
   "metadata": {},
   "outputs": [],
   "source": [
    "import socket\n",
    "\n",
    "# Getting the hostname by using the IP address\n",
    "hname1 = socket.gethostbyaddr(\"172.16.5.43\")\n",
    "hname2 = socket.gethostbyaddr(\"8.8.8.8\")\n",
    "\n",
    "# Printing the details\n",
    "print(f\"IP_ADDRESS: {hname1}\")\n",
    "print(f\"IP_ADDRESS: {hname2}\")"
   ]
  },
  {
   "cell_type": "code",
   "execution_count": null,
   "id": "cec61319",
   "metadata": {},
   "outputs": [],
   "source": [
    "import socket\n",
    "\n",
    "def find_service_name():\n",
    "    protocol_name = \"tcp\"\n",
    "    for port in [80, 25]:\n",
    "        print(\"Port %s => Service name: %s\" % (port, socket.getservbyport(port, protocol_name)))\n",
    "    \n",
    "    print(\"Port %s => Service name: %s\" % (53, socket.getservbyport(53, \"udp\")))\n",
    "\n",
    "if __name__ == \"__main__\":\n",
    "    find_service_name()"
   ]
  },
  {
   "cell_type": "code",
   "execution_count": 5,
   "id": "717fb5d4",
   "metadata": {},
   "outputs": [
    {
     "name": "stdout",
     "output_type": "stream",
     "text": [
      "Enter a math query (e.g., 2 + 3): 6 + 9\n",
      "Result from server: 15.0\n"
     ]
    }
   ],
   "source": [
    "import socket\n",
    "\n",
    "def start_client():\n",
    "    client_socket = socket.socket(socket.AF_INET, socket.SOCK_STREAM)\n",
    "\n",
    "    client_socket.connect(('localhost', 12345))\n",
    "\n",
    "    query = input(\"Enter a math query (e.g., 2 + 3): \")\n",
    "\n",
    "    client_socket.send(query.encode())\n",
    "\n",
    "    result = client_socket.recv(1024).decode()\n",
    "    print(f\"Result from server: {result}\")\n",
    "\n",
    "    client_socket.close()\n",
    "\n",
    "if __name__ == \"__main__\":\n",
    "    start_client()"
   ]
  },
  {
   "cell_type": "code",
   "execution_count": null,
   "id": "59c28355",
   "metadata": {},
   "outputs": [],
   "source": []
  }
 ],
 "metadata": {
  "kernelspec": {
   "display_name": "Python 3 (ipykernel)",
   "language": "python",
   "name": "python3"
  },
  "language_info": {
   "codemirror_mode": {
    "name": "ipython",
    "version": 3
   },
   "file_extension": ".py",
   "mimetype": "text/x-python",
   "name": "python",
   "nbconvert_exporter": "python",
   "pygments_lexer": "ipython3",
   "version": "3.11.4"
  }
 },
 "nbformat": 4,
 "nbformat_minor": 5
}
